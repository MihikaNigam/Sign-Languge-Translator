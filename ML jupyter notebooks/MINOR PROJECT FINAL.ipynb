{
 "cells": [
  {
   "cell_type": "code",
   "execution_count": 23,
   "id": "ba4ba885",
   "metadata": {},
   "outputs": [],
   "source": [
    "from pathlib import Path\n",
    "\n",
    "train_set=Path('D:/Downloads/newDB/asl_alphabet_train/asl_alphabet_train')\n",
    "test_set=Path('D:/Downloads/newDB/asl_alphabet_test/asl_alphabet_test')\n",
    "\n",
    "# glob: used to retrieve files matching a specified pattern.\n",
    "train_file_paths=list(train_set.glob(r'**/*.jpg'))\n",
    "test_file_paths=list(test_set.glob(r'**/*.jpg'))"
   ]
  },
  {
   "cell_type": "code",
   "execution_count": 24,
   "id": "5eb5bfed",
   "metadata": {},
   "outputs": [
    {
     "data": {
      "text/plain": [
       "[WindowsPath('D:/Downloads/newDB/asl_alphabet_train/asl_alphabet_train/A/A1.jpg'),\n",
       " WindowsPath('D:/Downloads/newDB/asl_alphabet_train/asl_alphabet_train/A/A10.jpg'),\n",
       " WindowsPath('D:/Downloads/newDB/asl_alphabet_train/asl_alphabet_train/A/A100.jpg'),\n",
       " WindowsPath('D:/Downloads/newDB/asl_alphabet_train/asl_alphabet_train/A/A1000.jpg'),\n",
       " WindowsPath('D:/Downloads/newDB/asl_alphabet_train/asl_alphabet_train/A/A1001.jpg')]"
      ]
     },
     "execution_count": 24,
     "metadata": {},
     "output_type": "execute_result"
    }
   ],
   "source": [
    "train_file_paths[:5]"
   ]
  },
  {
   "cell_type": "code",
   "execution_count": 25,
   "id": "9e0e76a0",
   "metadata": {},
   "outputs": [],
   "source": [
    "import pandas as pd\n",
    "\n",
    "def getImage(fp,dset):\n",
    "    \n",
    "    if dset==\"train\":\n",
    "        labels = [str(fp[i]).split(\"\\\\\")[-2] \\\n",
    "              for i in range(len(fp))]   \n",
    "    else:\n",
    "        labels = [(str(fp[i]).split(\"\\\\\")[-1])[0:-9] \\\n",
    "              for i in range(len(fp))]\n",
    "    \n",
    "    fp = pd.Series(fp, name='Filepath').astype(str)\n",
    "    labels=pd.Series(labels,name='Label')\n",
    "    \n",
    "    df = pd.concat([fp, labels], axis=1)\n",
    "    \n",
    "    df = df.sample(frac=1,random_state=0).reset_index(drop = True)\n",
    "    \n",
    "    return df\n",
    "\n",
    "train_df=getImage(train_file_paths,\"train\")\n",
    "test_df=getImage(test_file_paths,\"test\")"
   ]
  },
  {
   "cell_type": "code",
   "execution_count": 26,
   "id": "d206845d",
   "metadata": {},
   "outputs": [
    {
     "data": {
      "text/html": [
       "<div>\n",
       "<style scoped>\n",
       "    .dataframe tbody tr th:only-of-type {\n",
       "        vertical-align: middle;\n",
       "    }\n",
       "\n",
       "    .dataframe tbody tr th {\n",
       "        vertical-align: top;\n",
       "    }\n",
       "\n",
       "    .dataframe thead th {\n",
       "        text-align: right;\n",
       "    }\n",
       "</style>\n",
       "<table border=\"1\" class=\"dataframe\">\n",
       "  <thead>\n",
       "    <tr style=\"text-align: right;\">\n",
       "      <th></th>\n",
       "      <th>Filepath</th>\n",
       "      <th>Label</th>\n",
       "    </tr>\n",
       "  </thead>\n",
       "  <tbody>\n",
       "    <tr>\n",
       "      <th>0</th>\n",
       "      <td>D:\\Downloads\\newDB\\asl_alphabet_train\\asl_alph...</td>\n",
       "      <td>W</td>\n",
       "    </tr>\n",
       "    <tr>\n",
       "      <th>1</th>\n",
       "      <td>D:\\Downloads\\newDB\\asl_alphabet_train\\asl_alph...</td>\n",
       "      <td>E</td>\n",
       "    </tr>\n",
       "    <tr>\n",
       "      <th>2</th>\n",
       "      <td>D:\\Downloads\\newDB\\asl_alphabet_train\\asl_alph...</td>\n",
       "      <td>O</td>\n",
       "    </tr>\n",
       "    <tr>\n",
       "      <th>3</th>\n",
       "      <td>D:\\Downloads\\newDB\\asl_alphabet_train\\asl_alph...</td>\n",
       "      <td>K</td>\n",
       "    </tr>\n",
       "    <tr>\n",
       "      <th>4</th>\n",
       "      <td>D:\\Downloads\\newDB\\asl_alphabet_train\\asl_alph...</td>\n",
       "      <td>N</td>\n",
       "    </tr>\n",
       "    <tr>\n",
       "      <th>...</th>\n",
       "      <td>...</td>\n",
       "      <td>...</td>\n",
       "    </tr>\n",
       "    <tr>\n",
       "      <th>86995</th>\n",
       "      <td>D:\\Downloads\\newDB\\asl_alphabet_train\\asl_alph...</td>\n",
       "      <td>G</td>\n",
       "    </tr>\n",
       "    <tr>\n",
       "      <th>86996</th>\n",
       "      <td>D:\\Downloads\\newDB\\asl_alphabet_train\\asl_alph...</td>\n",
       "      <td>nothing</td>\n",
       "    </tr>\n",
       "    <tr>\n",
       "      <th>86997</th>\n",
       "      <td>D:\\Downloads\\newDB\\asl_alphabet_train\\asl_alph...</td>\n",
       "      <td>N</td>\n",
       "    </tr>\n",
       "    <tr>\n",
       "      <th>86998</th>\n",
       "      <td>D:\\Downloads\\newDB\\asl_alphabet_train\\asl_alph...</td>\n",
       "      <td>N</td>\n",
       "    </tr>\n",
       "    <tr>\n",
       "      <th>86999</th>\n",
       "      <td>D:\\Downloads\\newDB\\asl_alphabet_train\\asl_alph...</td>\n",
       "      <td>T</td>\n",
       "    </tr>\n",
       "  </tbody>\n",
       "</table>\n",
       "<p>87000 rows × 2 columns</p>\n",
       "</div>"
      ],
      "text/plain": [
       "                                                Filepath    Label\n",
       "0      D:\\Downloads\\newDB\\asl_alphabet_train\\asl_alph...        W\n",
       "1      D:\\Downloads\\newDB\\asl_alphabet_train\\asl_alph...        E\n",
       "2      D:\\Downloads\\newDB\\asl_alphabet_train\\asl_alph...        O\n",
       "3      D:\\Downloads\\newDB\\asl_alphabet_train\\asl_alph...        K\n",
       "4      D:\\Downloads\\newDB\\asl_alphabet_train\\asl_alph...        N\n",
       "...                                                  ...      ...\n",
       "86995  D:\\Downloads\\newDB\\asl_alphabet_train\\asl_alph...        G\n",
       "86996  D:\\Downloads\\newDB\\asl_alphabet_train\\asl_alph...  nothing\n",
       "86997  D:\\Downloads\\newDB\\asl_alphabet_train\\asl_alph...        N\n",
       "86998  D:\\Downloads\\newDB\\asl_alphabet_train\\asl_alph...        N\n",
       "86999  D:\\Downloads\\newDB\\asl_alphabet_train\\asl_alph...        T\n",
       "\n",
       "[87000 rows x 2 columns]"
      ]
     },
     "execution_count": 26,
     "metadata": {},
     "output_type": "execute_result"
    }
   ],
   "source": [
    "train_df"
   ]
  },
  {
   "cell_type": "code",
   "execution_count": 27,
   "id": "3b0bff80",
   "metadata": {},
   "outputs": [
    {
     "data": {
      "text/plain": [
       "(200, 200)"
      ]
     },
     "execution_count": 27,
     "metadata": {},
     "output_type": "execute_result"
    }
   ],
   "source": [
    "from PIL import Image\n",
    "from numpy import asarray\n",
    "import numpy as np\n",
    "\n",
    "img=Image.open('D:/Downloads/my_data/my_test_data/Z_test.jpg');\n",
    "width, height = img.size\n",
    "width, height"
   ]
  },
  {
   "cell_type": "code",
   "execution_count": 37,
   "id": "3d6df7cf",
   "metadata": {},
   "outputs": [
    {
     "data": {
      "image/png": "[encoded data removed]",
      "text/plain": [
       "<PIL.JpegImagePlugin.JpegImageFile image mode=RGB size=200x200 at 0x14B61C6C3C8>"
      ]
     },
     "execution_count": 37,
     "metadata": {},
     "output_type": "execute_result"
    }
   ],
   "source": [
    "img"
   ]
  },
  {
   "cell_type": "code",
   "execution_count": 35,
   "id": "05b01651",
   "metadata": {},
   "outputs": [
    {
     "data": {
      "image/png": "[encoded data removed]",
      "text/plain": [
       "<Figure size 1440x360 with 1 Axes>"
      ]
     },
     "metadata": {
      "needs_background": "light"
     },
     "output_type": "display_data"
    }
   ],
   "source": [
    "import matplotlib.pyplot as plt\n",
    "import seaborn as sns\n",
    "l = train_df['Label'].value_counts()\n",
    "plt.figure(figsize=(20,5))\n",
    "sns.barplot(x = sorted(l.index), y = l, palette = \"mako\")\n",
    "plt.title(\"Number of pictures of each category\", fontsize = 15)\n",
    "plt.show()"
   ]
  },
  {
   "cell_type": "code",
   "execution_count": 39,
   "id": "68d4f4f6",
   "metadata": {},
   "outputs": [],
   "source": [
    "train_df=train_df.loc[1:20000]"
   ]
  },
  {
   "cell_type": "code",
   "execution_count": 40,
   "id": "a61be385",
   "metadata": {},
   "outputs": [],
   "source": [
    "import tensorflow as tf"
   ]
  },
  {
   "cell_type": "code",
   "execution_count": 41,
   "id": "fbbd8102",
   "metadata": {},
   "outputs": [],
   "source": [
    "from tensorflow.keras.preprocessing.image import ImageDataGenerator\n",
    "\n",
    "train_generator = tf.keras.preprocessing.image.ImageDataGenerator(\n",
    "    preprocessing_function=tf.keras.applications.mobilenet.preprocess_input,\n",
    "    validation_split=0.2\n",
    ")\n",
    "\n",
    "test_generator = tf.keras.preprocessing.image.ImageDataGenerator(\n",
    "    preprocessing_function=tf.keras.applications.mobilenet.preprocess_input\n",
    ")"
   ]
  },
  {
   "cell_type": "code",
   "execution_count": 42,
   "id": "ce7de536",
   "metadata": {},
   "outputs": [
    {
     "name": "stdout",
     "output_type": "stream",
     "text": [
      "Found 16000 validated image filenames belonging to 29 classes.\n",
      "Found 4000 validated image filenames belonging to 29 classes.\n",
      "Found 29 validated image filenames belonging to 29 classes.\n"
     ]
    }
   ],
   "source": [
    "train_images = train_generator.flow_from_dataframe(\n",
    "    dataframe=train_df,\n",
    "    x_col='Filepath',\n",
    "    y_col='Label',\n",
    "    target_size=(224,224),\n",
    "    color_mode='rgb',\n",
    "    class_mode='categorical',\n",
    "    batch_size=32,\n",
    "    shuffle=True,\n",
    "    seed=0,\n",
    "    subset='training'\n",
    ")\n",
    "\n",
    "val_images = train_generator.flow_from_dataframe(\n",
    "    dataframe=train_df,\n",
    "    x_col='Filepath',\n",
    "    y_col='Label',\n",
    "    target_size=(224, 224),\n",
    "    color_mode='rgb',\n",
    "    class_mode='categorical',\n",
    "    batch_size=32,\n",
    "    shuffle=True,\n",
    "    seed=0,\n",
    "    subset='validation'\n",
    ")\n",
    "\n",
    "test_images = test_generator.flow_from_dataframe(\n",
    "    dataframe=test_df,\n",
    "    x_col='Filepath',\n",
    "    y_col='Label',\n",
    "    target_size=(224, 224),\n",
    "    color_mode='rgb',\n",
    "    class_mode='categorical',\n",
    "    batch_size=32,\n",
    "    shuffle=False\n",
    ")"
   ]
  },
  {
   "cell_type": "code",
   "execution_count": 48,
   "id": "5a49d987",
   "metadata": {},
   "outputs": [
    {
     "data": {
      "text/plain": [
       "(array([[[[-1.        , -0.92941177,  0.92941177],\n",
       "          [-1.        , -0.9529412 ,  1.        ],\n",
       "          [-1.        , -1.        ,  0.94509804],\n",
       "          ...,\n",
       "          [-0.9843137 , -1.        ,  0.99215686],\n",
       "          [-1.        , -1.        ,  0.9843137 ],\n",
       "          [-1.        , -0.9764706 ,  1.        ]],\n",
       " \n",
       "         [[-1.        , -0.9764706 ,  0.99215686],\n",
       "          [-1.        , -1.        ,  0.7411765 ],\n",
       "          [-0.85882354, -0.92941177,  0.5529412 ],\n",
       "          ...,\n",
       "          [-0.8980392 , -0.9764706 ,  0.39607847],\n",
       "          [-0.8901961 , -0.9529412 ,  0.6156863 ],\n",
       "          [-0.9843137 , -1.        ,  0.8509804 ]],\n",
       " \n",
       "         [[-0.9764706 , -0.9843137 ,  1.        ],\n",
       "          [-0.8666667 , -0.9529412 ,  0.5372549 ],\n",
       "          [ 0.00392163, -0.09803921,  0.52156866],\n",
       "          ...,\n",
       "          [-0.1372549 , -0.2235294 ,  0.02745104],\n",
       "          [-0.15294117, -0.24705881,  0.6       ],\n",
       "          [-0.8901961 , -0.9843137 ,  0.64705884]],\n",
       " \n",
       "         ...,\n",
       " \n",
       "         [[-0.9529412 , -1.        ,  0.9843137 ],\n",
       "          [-0.92156863, -0.9137255 ,  0.4901961 ],\n",
       "          [ 0.62352943,  0.77254903,  1.        ],\n",
       "          ...,\n",
       "          [ 0.35686278,  0.30196083,  0.22352946],\n",
       "          [ 0.30980396,  0.2941177 ,  0.8666667 ],\n",
       "          [-0.92156863, -0.92156863,  0.5372549 ]],\n",
       " \n",
       "         [[-0.9764706 , -1.        ,  1.        ],\n",
       "          [-0.9764706 , -0.9529412 ,  0.6392157 ],\n",
       "          [ 0.56078434,  0.6862745 ,  1.        ],\n",
       "          ...,\n",
       "          [ 0.3176471 ,  0.30196083,  0.8745098 ],\n",
       "          [ 0.21568632,  0.254902  ,  1.        ],\n",
       "          [-0.99215686, -0.9372549 ,  0.5686275 ]],\n",
       " \n",
       "         [[-1.        , -0.9764706 ,  1.        ],\n",
       "          [-1.        , -0.9843137 ,  0.8666667 ],\n",
       "          [-0.9764706 , -0.90588236,  0.6862745 ],\n",
       "          ...,\n",
       "          [-0.9529412 , -0.9529412 ,  0.5058824 ],\n",
       "          [-0.9843137 , -0.92941177,  0.5921569 ],\n",
       "          [-1.        , -0.92941177,  0.7411765 ]]],\n",
       " \n",
       " \n",
       "        [[[-1.        , -0.9764706 ,  0.9607843 ],\n",
       "          [-0.9843137 , -0.9607843 ,  1.        ],\n",
       "          [-0.9843137 , -0.99215686,  1.        ],\n",
       "          ...,\n",
       "          [-0.9607843 , -1.        ,  1.        ],\n",
       "          [-1.        , -1.        ,  0.9843137 ],\n",
       "          [-1.        , -0.96862745,  0.99215686]],\n",
       " \n",
       "         [[-0.9843137 , -0.9607843 ,  1.        ],\n",
       "          [-1.        , -1.        ,  0.78039217],\n",
       "          [-0.90588236, -0.92941177,  0.58431375],\n",
       "          ...,\n",
       "          [-0.9137255 , -0.9529412 ,  0.45882356],\n",
       "          [-0.92941177, -0.94509804,  0.6627451 ],\n",
       "          [-1.        , -0.9843137 ,  0.8666667 ]],\n",
       " \n",
       "         [[-1.        , -1.        ,  0.9529412 ],\n",
       "          [-0.8980392 , -0.94509804,  0.5921569 ],\n",
       "          [-0.3490196 , -0.3333333 ,  0.34901965],\n",
       "          ...,\n",
       "          [ 0.19215691,  0.20784318,  0.5137255 ],\n",
       "          [ 0.10588241,  0.11372554,  0.96862745],\n",
       "          [-0.96862745, -0.9607843 ,  0.62352943]],\n",
       " \n",
       "         ...,\n",
       " \n",
       "         [[-0.94509804, -0.99215686,  1.        ],\n",
       "          [-0.92941177, -0.92156863,  0.48235297],\n",
       "          [ 0.2941177 ,  0.4039216 ,  0.75686276],\n",
       "          ...,\n",
       "          [ 0.10588241,  0.03529418, -0.03529412],\n",
       "          [-0.01176471, -0.03529412,  0.52156866],\n",
       "          [-0.94509804, -0.9607843 ,  0.5058824 ]],\n",
       " \n",
       "         [[-1.        , -1.        ,  0.9764706 ],\n",
       "          [-0.99215686, -0.94509804,  0.60784316],\n",
       "          [ 0.26274514,  0.36470592,  1.        ],\n",
       "          ...,\n",
       "          [ 0.00392163, -0.02745098,  0.5529412 ],\n",
       "          [-0.08235294, -0.06666666,  0.8666667 ],\n",
       "          [-0.99215686, -0.9372549 ,  0.58431375]],\n",
       " \n",
       "         [[-1.        , -0.96862745,  1.        ],\n",
       "          [-1.        , -0.9529412 ,  0.84313726],\n",
       "          [-1.        , -0.92941177,  0.5529412 ],\n",
       "          ...,\n",
       "          [-0.9372549 , -0.9529412 ,  0.5137255 ],\n",
       "          [-1.        , -0.94509804,  0.56078434],\n",
       "          [-1.        , -0.90588236,  0.7647059 ]]],\n",
       " \n",
       " \n",
       "        [[[-1.        , -0.96862745,  0.94509804],\n",
       "          [-1.        , -1.        ,  0.9843137 ],\n",
       "          [-0.9843137 , -1.        ,  0.99215686],\n",
       "          ...,\n",
       "          [-0.92941177, -1.        ,  1.        ],\n",
       "          [-0.99215686, -0.99215686,  1.        ],\n",
       "          [-1.        , -0.96862745,  0.9843137 ]],\n",
       " \n",
       "         [[-1.        , -1.        ,  0.9843137 ],\n",
       "          [-0.9529412 , -0.9764706 ,  0.81960785],\n",
       "          [-0.92941177, -0.9607843 ,  0.5921569 ],\n",
       "          ...,\n",
       "          [-0.88235295, -0.9764706 ,  0.48235297],\n",
       "          [-0.9529412 , -0.9764706 ,  0.6       ],\n",
       "          [-1.        , -0.9372549 ,  0.85882354]],\n",
       " \n",
       "         [[-0.9843137 , -1.        ,  0.9764706 ],\n",
       "          [-0.8980392 , -0.94509804,  0.5764706 ],\n",
       "          [-0.12156862, -0.12156862,  0.5686275 ],\n",
       "          ...,\n",
       "          [ 0.0196079 , -0.05882353,  0.34901965],\n",
       "          [-0.05098039, -0.08235294,  0.7882353 ],\n",
       "          [-0.96862745, -0.94509804,  0.5686275 ]],\n",
       " \n",
       "         ...,\n",
       " \n",
       "         [[-0.9843137 , -1.        ,  0.9764706 ],\n",
       "          [-0.9607843 , -0.9607843 ,  0.4666667 ],\n",
       "          [-0.49019605, -0.372549  , -0.03529412],\n",
       "          ...,\n",
       "          [-0.16862744, -0.20784312, -0.36470586],\n",
       "          [-0.23137254, -0.23137254,  0.254902  ],\n",
       "          [-0.9529412 , -0.94509804,  0.45882356]],\n",
       " \n",
       "         [[-1.        , -1.        ,  0.9843137 ],\n",
       "          [-0.9372549 , -0.8980392 ,  0.69411767],\n",
       "          [-0.5686275 , -0.46666664,  0.35686278],\n",
       "          ...,\n",
       "          [-0.20784312, -0.2235294 ,  0.27058828],\n",
       "          [-0.3333333 , -0.30196077,  0.56078434],\n",
       "          [-0.9764706 , -0.9137255 ,  0.54509807]],\n",
       " \n",
       "         [[-1.        , -0.96862745,  1.        ],\n",
       "          [-1.        , -0.99215686,  0.81960785],\n",
       "          [-0.9764706 , -0.90588236,  0.5921569 ],\n",
       "          ...,\n",
       "          [-0.92941177, -0.9372549 ,  0.47450984],\n",
       "          [-0.99215686, -0.92941177,  0.5294118 ],\n",
       "          [-1.        , -0.92941177,  0.7176471 ]]],\n",
       " \n",
       " \n",
       "        ...,\n",
       " \n",
       " \n",
       "        [[[-1.        , -0.9607843 ,  0.96862745],\n",
       "          [-1.        , -1.        ,  0.9843137 ],\n",
       "          [-0.99215686, -1.        ,  0.99215686],\n",
       "          ...,\n",
       "          [-0.9372549 , -1.        ,  1.        ],\n",
       "          [-0.9843137 , -0.9843137 ,  1.        ],\n",
       "          [-1.        , -0.9607843 ,  0.99215686]],\n",
       " \n",
       "         [[-0.99215686, -0.96862745,  1.        ],\n",
       "          [-0.99215686, -1.        ,  0.81960785],\n",
       "          [-0.8980392 , -0.9529412 ,  0.6156863 ],\n",
       "          ...,\n",
       "          [-0.85882354, -0.9529412 ,  0.4901961 ],\n",
       "          [-0.9843137 , -0.99215686,  0.5764706 ],\n",
       "          [-1.        , -0.94509804,  0.8509804 ]],\n",
       " \n",
       "         [[-0.99215686, -1.        ,  0.9843137 ],\n",
       "          [-0.90588236, -0.9529412 ,  0.6       ],\n",
       "          [-0.2862745 , -0.3333333 ,  0.43529415],\n",
       "          ...,\n",
       "          [ 0.14509809,  0.06666672,  0.48235297],\n",
       "          [ 0.16078436,  0.12941182,  1.        ],\n",
       "          [-0.96862745, -0.9372549 ,  0.5921569 ]],\n",
       " \n",
       "         ...,\n",
       " \n",
       "         [[-0.9529412 , -1.        ,  0.9843137 ],\n",
       "          [-0.8901961 , -0.9607843 ,  0.45882356],\n",
       "          [-0.5058824 , -0.5137255 , -0.18431371],\n",
       "          ...,\n",
       "          [-0.15294117, -0.20784312, -0.42745095],\n",
       "          [-0.23921567, -0.26274508,  0.18431377],\n",
       "          [-0.9372549 , -0.9607843 ,  0.4431373 ]],\n",
       " \n",
       "         [[-0.9764706 , -1.        ,  0.9843137 ],\n",
       "          [-0.8980392 , -0.9372549 ,  0.6627451 ],\n",
       "          [-0.60784316, -0.62352943,  0.21568632],\n",
       "          ...,\n",
       "          [-0.20784312, -0.23137254,  0.21568632],\n",
       "          [-0.35686272, -0.3333333 ,  0.5058824 ],\n",
       "          [-0.92941177, -0.8980392 ,  0.5686275 ]],\n",
       " \n",
       "         [[-1.        , -0.99215686,  0.9843137 ],\n",
       "          [-1.        , -0.9843137 ,  0.85882354],\n",
       "          [-0.9137255 , -0.92941177,  0.62352943],\n",
       "          ...,\n",
       "          [-0.92156863, -0.94509804,  0.45882356],\n",
       "          [-0.9843137 , -0.9372549 ,  0.5058824 ],\n",
       "          [-1.        , -0.92156863,  0.7254902 ]]],\n",
       " \n",
       " \n",
       "        [[[-1.        , -0.9764706 ,  0.99215686],\n",
       "          [-1.        , -0.99215686,  0.9843137 ],\n",
       "          [-0.99215686, -0.99215686,  1.        ],\n",
       "          ...,\n",
       "          [-0.99215686, -1.        ,  0.9843137 ],\n",
       "          [-1.        , -1.        ,  0.9843137 ],\n",
       "          [-1.        , -0.9607843 ,  1.        ]],\n",
       " \n",
       "         [[-1.        , -1.        ,  0.99215686],\n",
       "          [-0.9764706 , -0.9843137 ,  0.8039216 ],\n",
       "          [-0.9529412 , -0.9607843 ,  0.52156866],\n",
       "          ...,\n",
       "          [-0.8980392 , -0.9843137 ,  0.4431373 ],\n",
       "          [-0.88235295, -0.9372549 ,  0.6313726 ],\n",
       "          [-1.        , -0.99215686,  0.8039216 ]],\n",
       " \n",
       "         [[-0.96862745, -1.        ,  0.9843137 ],\n",
       "          [-0.9137255 , -0.9529412 ,  0.5372549 ],\n",
       "          [-0.09803921, -0.06666666,  0.64705884],\n",
       "          ...,\n",
       "          [-0.15294117, -0.2862745 ,  0.05882359],\n",
       "          [-0.27843136, -0.40392154,  0.45098042],\n",
       "          [-0.8745098 , -0.9607843 ,  0.5921569 ]],\n",
       " \n",
       "         ...,\n",
       " \n",
       "         [[-0.9843137 , -0.99215686,  1.        ],\n",
       "          [-0.9372549 , -0.94509804,  0.45882356],\n",
       "          [-0.73333335, -0.7254902 , -0.30196077],\n",
       "          ...,\n",
       "          [ 0.2313726 ,  0.13725495, -0.03529412],\n",
       "          [ 0.16078436,  0.11372554,  0.58431375],\n",
       "          [-0.9137255 , -0.9529412 ,  0.4666667 ]],\n",
       " \n",
       "         [[-1.        , -0.9764706 ,  1.        ],\n",
       "          [-0.9607843 , -0.92941177,  0.60784316],\n",
       "          [-0.84313726, -0.8117647 ,  0.05098045],\n",
       "          ...,\n",
       "          [ 0.14509809,  0.06666672,  0.56078434],\n",
       "          [ 0.0196079 , -0.00392157,  0.88235295],\n",
       "          [-0.92941177, -0.92156863,  0.56078434]],\n",
       " \n",
       "         [[-1.        , -0.96862745,  0.9843137 ],\n",
       "          [-1.        , -0.9372549 ,  0.8352941 ],\n",
       "          [-0.9529412 , -0.92156863,  0.60784316],\n",
       "          ...,\n",
       "          [-0.9137255 , -0.9529412 ,  0.45882356],\n",
       "          [-0.94509804, -0.9137255 ,  0.5529412 ],\n",
       "          [-1.        , -0.9372549 ,  0.7176471 ]]],\n",
       " \n",
       " \n",
       "        [[[-1.        , -0.96862745,  0.94509804],\n",
       "          [-1.        , -0.9843137 ,  0.99215686],\n",
       "          [-1.        , -0.99215686,  0.99215686],\n",
       "          ...,\n",
       "          [-1.        , -0.9843137 ,  1.        ],\n",
       "          [-1.        , -0.9843137 ,  0.99215686],\n",
       "          [-1.        , -0.9764706 ,  0.99215686]],\n",
       " \n",
       "         [[-0.99215686, -0.99215686,  1.        ],\n",
       "          [-0.94509804, -0.99215686,  0.8117647 ],\n",
       "          [-0.9137255 , -0.96862745,  0.5372549 ],\n",
       "          ...,\n",
       "          [-0.9372549 , -0.9529412 ,  0.5294118 ],\n",
       "          [-0.96862745, -0.9607843 ,  0.6392157 ],\n",
       "          [-0.9764706 , -0.94509804,  0.8509804 ]],\n",
       " \n",
       "         [[-0.9764706 , -1.        ,  0.9764706 ],\n",
       "          [-0.88235295, -0.9764706 ,  0.54509807],\n",
       "          [ 0.05882359, -0.03529412,  0.6392157 ],\n",
       "          ...,\n",
       "          [ 0.84313726,  0.79607844,  1.        ],\n",
       "          [ 0.8352941 ,  0.8039216 ,  1.        ],\n",
       "          [-0.9372549 , -0.9607843 ,  0.5372549 ]],\n",
       " \n",
       "         ...,\n",
       " \n",
       "         [[-0.9607843 , -1.        ,  0.99215686],\n",
       "          [-0.9137255 , -0.92941177,  0.52156866],\n",
       "          [ 0.41176474,  0.5137255 ,  0.92156863],\n",
       "          ...,\n",
       "          [ 0.56078434,  0.54509807,  0.427451  ],\n",
       "          [ 0.5372549 ,  0.54509807,  1.        ],\n",
       "          [-0.9372549 , -0.92156863,  0.49803925]],\n",
       " \n",
       "         [[-1.        , -1.        ,  0.9843137 ],\n",
       "          [-0.99215686, -0.96862745,  0.60784316],\n",
       "          [ 0.3411765 ,  0.43529415,  1.        ],\n",
       "          ...,\n",
       "          [ 0.5372549 ,  0.54509807,  1.        ],\n",
       "          [ 0.427451  ,  0.48235297,  1.        ],\n",
       "          [-0.99215686, -0.9137255 ,  0.54509807]],\n",
       " \n",
       "         [[-1.        , -0.9843137 ,  0.99215686],\n",
       "          [-1.        , -0.92941177,  0.8509804 ],\n",
       "          [-0.99215686, -0.92156863,  0.5764706 ],\n",
       "          ...,\n",
       "          [-0.9529412 , -0.9529412 ,  0.4901961 ],\n",
       "          [-1.        , -0.92941177,  0.5686275 ],\n",
       "          [-1.        , -0.92156863,  0.73333335]]]], dtype=float32),\n",
       " array([[0., 0., 0., 0., 0., 1., 0., 0., 0., 0., 0., 0., 0., 0., 0., 0.,\n",
       "         0., 0., 0., 0., 0., 0., 0., 0., 0., 0., 0., 0., 0.],\n",
       "        [0., 0., 0., 0., 0., 0., 0., 0., 0., 0., 0., 0., 0., 0., 0., 0.,\n",
       "         0., 0., 0., 0., 0., 1., 0., 0., 0., 0., 0., 0., 0.],\n",
       "        [0., 0., 1., 0., 0., 0., 0., 0., 0., 0., 0., 0., 0., 0., 0., 0.,\n",
       "         0., 0., 0., 0., 0., 0., 0., 0., 0., 0., 0., 0., 0.],\n",
       "        [0., 0., 0., 0., 0., 0., 0., 0., 0., 0., 0., 0., 0., 0., 0., 0.,\n",
       "         0., 0., 0., 0., 0., 0., 1., 0., 0., 0., 0., 0., 0.],\n",
       "        [0., 0., 0., 0., 0., 0., 0., 0., 0., 1., 0., 0., 0., 0., 0., 0.,\n",
       "         0., 0., 0., 0., 0., 0., 0., 0., 0., 0., 0., 0., 0.],\n",
       "        [1., 0., 0., 0., 0., 0., 0., 0., 0., 0., 0., 0., 0., 0., 0., 0.,\n",
       "         0., 0., 0., 0., 0., 0., 0., 0., 0., 0., 0., 0., 0.],\n",
       "        [0., 0., 0., 0., 0., 0., 1., 0., 0., 0., 0., 0., 0., 0., 0., 0.,\n",
       "         0., 0., 0., 0., 0., 0., 0., 0., 0., 0., 0., 0., 0.],\n",
       "        [0., 0., 0., 0., 0., 0., 0., 0., 0., 0., 0., 0., 0., 0., 0., 0.,\n",
       "         1., 0., 0., 0., 0., 0., 0., 0., 0., 0., 0., 0., 0.],\n",
       "        [0., 0., 0., 0., 0., 0., 0., 0., 0., 0., 0., 1., 0., 0., 0., 0.,\n",
       "         0., 0., 0., 0., 0., 0., 0., 0., 0., 0., 0., 0., 0.],\n",
       "        [0., 0., 0., 0., 0., 0., 0., 0., 0., 0., 0., 0., 1., 0., 0., 0.,\n",
       "         0., 0., 0., 0., 0., 0., 0., 0., 0., 0., 0., 0., 0.],\n",
       "        [0., 0., 0., 1., 0., 0., 0., 0., 0., 0., 0., 0., 0., 0., 0., 0.,\n",
       "         0., 0., 0., 0., 0., 0., 0., 0., 0., 0., 0., 0., 0.],\n",
       "        [0., 0., 0., 0., 0., 0., 0., 0., 0., 0., 0., 0., 0., 0., 0., 0.,\n",
       "         0., 0., 0., 0., 0., 1., 0., 0., 0., 0., 0., 0., 0.],\n",
       "        [0., 0., 0., 0., 0., 0., 0., 0., 0., 0., 0., 0., 0., 0., 0., 1.,\n",
       "         0., 0., 0., 0., 0., 0., 0., 0., 0., 0., 0., 0., 0.],\n",
       "        [0., 0., 0., 0., 0., 0., 0., 1., 0., 0., 0., 0., 0., 0., 0., 0.,\n",
       "         0., 0., 0., 0., 0., 0., 0., 0., 0., 0., 0., 0., 0.],\n",
       "        [0., 0., 0., 0., 1., 0., 0., 0., 0., 0., 0., 0., 0., 0., 0., 0.,\n",
       "         0., 0., 0., 0., 0., 0., 0., 0., 0., 0., 0., 0., 0.],\n",
       "        [0., 0., 0., 0., 0., 0., 0., 0., 0., 0., 0., 0., 0., 0., 0., 0.,\n",
       "         0., 1., 0., 0., 0., 0., 0., 0., 0., 0., 0., 0., 0.],\n",
       "        [1., 0., 0., 0., 0., 0., 0., 0., 0., 0., 0., 0., 0., 0., 0., 0.,\n",
       "         0., 0., 0., 0., 0., 0., 0., 0., 0., 0., 0., 0., 0.],\n",
       "        [0., 0., 0., 0., 0., 1., 0., 0., 0., 0., 0., 0., 0., 0., 0., 0.,\n",
       "         0., 0., 0., 0., 0., 0., 0., 0., 0., 0., 0., 0., 0.],\n",
       "        [0., 0., 0., 0., 1., 0., 0., 0., 0., 0., 0., 0., 0., 0., 0., 0.,\n",
       "         0., 0., 0., 0., 0., 0., 0., 0., 0., 0., 0., 0., 0.],\n",
       "        [0., 0., 0., 0., 0., 0., 0., 0., 0., 0., 0., 0., 0., 0., 0., 0.,\n",
       "         0., 0., 0., 0., 1., 0., 0., 0., 0., 0., 0., 0., 0.],\n",
       "        [0., 0., 0., 0., 0., 0., 0., 0., 0., 0., 0., 0., 0., 0., 0., 0.,\n",
       "         0., 0., 0., 0., 0., 1., 0., 0., 0., 0., 0., 0., 0.],\n",
       "        [0., 0., 0., 0., 0., 0., 0., 1., 0., 0., 0., 0., 0., 0., 0., 0.,\n",
       "         0., 0., 0., 0., 0., 0., 0., 0., 0., 0., 0., 0., 0.],\n",
       "        [0., 0., 0., 0., 0., 0., 0., 0., 0., 0., 0., 0., 0., 0., 0., 0.,\n",
       "         0., 0., 0., 0., 0., 1., 0., 0., 0., 0., 0., 0., 0.],\n",
       "        [0., 0., 0., 0., 0., 0., 0., 0., 0., 0., 0., 0., 1., 0., 0., 0.,\n",
       "         0., 0., 0., 0., 0., 0., 0., 0., 0., 0., 0., 0., 0.],\n",
       "        [0., 0., 0., 0., 0., 0., 0., 0., 0., 0., 0., 0., 0., 0., 0., 0.,\n",
       "         0., 0., 0., 0., 0., 0., 0., 1., 0., 0., 0., 0., 0.],\n",
       "        [0., 0., 0., 0., 0., 0., 0., 0., 0., 0., 0., 0., 0., 0., 0., 0.,\n",
       "         0., 0., 0., 0., 0., 0., 0., 0., 0., 0., 1., 0., 0.],\n",
       "        [0., 0., 0., 0., 0., 0., 0., 0., 0., 0., 0., 0., 0., 0., 0., 0.,\n",
       "         0., 0., 0., 0., 0., 0., 0., 1., 0., 0., 0., 0., 0.],\n",
       "        [0., 0., 0., 0., 0., 0., 0., 0., 0., 0., 0., 0., 1., 0., 0., 0.,\n",
       "         0., 0., 0., 0., 0., 0., 0., 0., 0., 0., 0., 0., 0.],\n",
       "        [0., 0., 0., 0., 0., 0., 0., 1., 0., 0., 0., 0., 0., 0., 0., 0.,\n",
       "         0., 0., 0., 0., 0., 0., 0., 0., 0., 0., 0., 0., 0.],\n",
       "        [0., 0., 0., 0., 0., 0., 0., 0., 0., 1., 0., 0., 0., 0., 0., 0.,\n",
       "         0., 0., 0., 0., 0., 0., 0., 0., 0., 0., 0., 0., 0.],\n",
       "        [0., 0., 0., 0., 0., 0., 0., 0., 0., 0., 0., 0., 0., 0., 1., 0.,\n",
       "         0., 0., 0., 0., 0., 0., 0., 0., 0., 0., 0., 0., 0.],\n",
       "        [0., 0., 0., 0., 0., 0., 0., 0., 0., 0., 0., 0., 0., 0., 0., 0.,\n",
       "         0., 0., 0., 0., 0., 0., 0., 0., 0., 0., 0., 1., 0.]],\n",
       "       dtype=float32))"
      ]
     },
     "execution_count": 48,
     "metadata": {},
     "output_type": "execute_result"
    }
   ],
   "source": [
    "train_images[0]"
   ]
  },
  {
   "cell_type": "code",
   "execution_count": 42,
   "id": "cd1bcf08",
   "metadata": {},
   "outputs": [],
   "source": [
    "from tensorflow.keras.applications.mobilenet import MobileNet\n",
    "from tensorflow.keras.layers import Dense, Input, Dropout\n",
    "from tensorflow.keras.models import Model\n",
    "\n",
    "baseModel = MobileNet(\n",
    "    input_shape=(224, 224, 3),\n",
    "     include_top=False,\n",
    "     weights='imagenet',\n",
    "     pooling='avg'\n",
    ")\n",
    "baseModel.trainable = False\n",
    "\n",
    "input_t = baseModel.input\n",
    "\n",
    "op=Dense(128, activation='relu')(baseModel.output)\n",
    "op = Dropout(.5)(op) #to prevent overfitting\n",
    "op =Dense(128, activation='relu')(op)\n",
    "output_t = Dense(29, activation='softmax')(op)\n",
    "\n",
    "model = Model(inputs=input_t, outputs=output_t)"
   ]
  },
  {
   "cell_type": "code",
   "execution_count": 43,
   "id": "eb78c191",
   "metadata": {},
   "outputs": [],
   "source": [
    "model.compile(\n",
    "    optimizer='adam',\n",
    "    loss='categorical_crossentropy',\n",
    "    metrics=['accuracy']\n",
    ")"
   ]
  },
  {
   "cell_type": "code",
   "execution_count": 44,
   "id": "c6845905",
   "metadata": {},
   "outputs": [
    {
     "name": "stdout",
     "output_type": "stream",
     "text": [
      "Epoch 1/3\n",
      "500/500 [==============================] - 926s 2s/step - loss: 2.0945 - accuracy: 0.4011 - val_loss: 0.2785 - val_accuracy: 0.9100\n",
      "Epoch 2/3\n",
      "500/500 [==============================] - 510s 1s/step - loss: 0.4671 - accuracy: 0.8445 - val_loss: 0.1316 - val_accuracy: 0.9610\n",
      "Epoch 3/3\n",
      "500/500 [==============================] - 504s 1s/step - loss: 0.2996 - accuracy: 0.8951 - val_loss: 0.0909 - val_accuracy: 0.9747\n"
     ]
    }
   ],
   "source": [
    "history = model.fit(\n",
    "    train_images,\n",
    "    validation_data=val_images,\n",
    "    epochs=3,\n",
    "    callbacks=[\n",
    "         tf.keras.callbacks.EarlyStopping(\n",
    "            monitor='val_loss',\n",
    "            patience=2,\n",
    "            restore_best_weights=True\n",
    "        )\n",
    "     ]\n",
    " )"
   ]
  },
  {
   "cell_type": "code",
   "execution_count": 72,
   "id": "1e91a43b",
   "metadata": {},
   "outputs": [],
   "source": [
    "model.save('C:/Users/mihika/Desktop/m1.h5')"
   ]
  },
  {
   "cell_type": "code",
   "execution_count": 76,
   "id": "40a947ac",
   "metadata": {},
   "outputs": [],
   "source": [
    "from tensorflow.keras import models   \n",
    "model = models.load_model('C:/Users/mihika/Desktop/m1.h5')"
   ]
  },
  {
   "cell_type": "code",
   "execution_count": 77,
   "id": "121dd3b2",
   "metadata": {},
   "outputs": [],
   "source": [
    "tr_df=getImage(train_file_paths,\"train\")"
   ]
  },
  {
   "cell_type": "code",
   "execution_count": 78,
   "id": "88dca3aa",
   "metadata": {},
   "outputs": [],
   "source": [
    "train_df2=tr_df.loc[20000:40000]"
   ]
  },
  {
   "cell_type": "code",
   "execution_count": 79,
   "id": "fad64b00",
   "metadata": {},
   "outputs": [
    {
     "name": "stdout",
     "output_type": "stream",
     "text": [
      "Found 16001 validated image filenames belonging to 29 classes.\n",
      "Found 4000 validated image filenames belonging to 29 classes.\n"
     ]
    }
   ],
   "source": [
    "train_images = train_generator.flow_from_dataframe(\n",
    "    dataframe=train_df2,\n",
    "    x_col='Filepath',\n",
    "    y_col='Label',\n",
    "    target_size=(224,224),\n",
    "    color_mode='rgb',\n",
    "    class_mode='categorical',\n",
    "    batch_size=32,\n",
    "    shuffle=True,\n",
    "    seed=0,\n",
    "    subset='training'\n",
    ")\n",
    "\n",
    "val_images = train_generator.flow_from_dataframe(\n",
    "    dataframe=train_df2,\n",
    "    x_col='Filepath',\n",
    "    y_col='Label',\n",
    "    target_size=(224, 224),\n",
    "    color_mode='rgb',\n",
    "    class_mode='categorical',\n",
    "    batch_size=32,\n",
    "    shuffle=True,\n",
    "    seed=0,\n",
    "    subset='validation'\n",
    ")"
   ]
  },
  {
   "cell_type": "code",
   "execution_count": 80,
   "id": "40e0425a",
   "metadata": {},
   "outputs": [
    {
     "name": "stdout",
     "output_type": "stream",
     "text": [
      "Epoch 3/6\n",
      "501/501 [==============================] - 799s 2s/step - loss: 0.2579 - accuracy: 0.9107 - val_loss: 0.0561 - val_accuracy: 0.9870\n",
      "Epoch 4/6\n",
      "501/501 [==============================] - 466s 929ms/step - loss: 0.2128 - accuracy: 0.9263 - val_loss: 0.0450 - val_accuracy: 0.9868\n",
      "Epoch 5/6\n",
      "501/501 [==============================] - 469s 937ms/step - loss: 0.2030 - accuracy: 0.9316 - val_loss: 0.0611 - val_accuracy: 0.9837\n",
      "Epoch 6/6\n",
      "  7/501 [..............................] - ETA: 6:36 - loss: 0.2162 - accuracy: 0.9286"
     ]
    },
    {
     "ename": "KeyboardInterrupt",
     "evalue": "",
     "output_type": "error",
     "traceback": [
      "\u001b[1;31m---------------------------------------------------------------------------\u001b[0m",
      "\u001b[1;31mKeyboardInterrupt\u001b[0m                         Traceback (most recent call last)",
      "\u001b[1;32m<ipython-input-80-736a23b185fa>\u001b[0m in \u001b[0;36m<module>\u001b[1;34m\u001b[0m\n\u001b[0;32m     11\u001b[0m                            \u001b[0mmonitor\u001b[0m\u001b[1;33m=\u001b[0m\u001b[1;34m'val_loss'\u001b[0m\u001b[1;33m,\u001b[0m\u001b[1;33m\u001b[0m\u001b[1;33m\u001b[0m\u001b[0m\n\u001b[0;32m     12\u001b[0m                            \u001b[0mpatience\u001b[0m\u001b[1;33m=\u001b[0m\u001b[1;36m2\u001b[0m\u001b[1;33m,\u001b[0m\u001b[1;33m\u001b[0m\u001b[1;33m\u001b[0m\u001b[0m\n\u001b[1;32m---> 13\u001b[1;33m                            \u001b[0mrestore_best_weights\u001b[0m\u001b[1;33m=\u001b[0m\u001b[1;32mTrue\u001b[0m\u001b[1;33m\u001b[0m\u001b[1;33m\u001b[0m\u001b[0m\n\u001b[0m\u001b[0;32m     14\u001b[0m                        )\n\u001b[0;32m     15\u001b[0m                    ])\n",
      "\u001b[1;32m~\\AppData\\Roaming\\Python\\Python37\\site-packages\\tensorflow\\python\\keras\\engine\\training.py\u001b[0m in \u001b[0;36mfit\u001b[1;34m(self, x, y, batch_size, epochs, verbose, callbacks, validation_split, validation_data, shuffle, class_weight, sample_weight, initial_epoch, steps_per_epoch, validation_steps, validation_batch_size, validation_freq, max_queue_size, workers, use_multiprocessing)\u001b[0m\n\u001b[0;32m   1098\u001b[0m                 _r=1):\n\u001b[0;32m   1099\u001b[0m               \u001b[0mcallbacks\u001b[0m\u001b[1;33m.\u001b[0m\u001b[0mon_train_batch_begin\u001b[0m\u001b[1;33m(\u001b[0m\u001b[0mstep\u001b[0m\u001b[1;33m)\u001b[0m\u001b[1;33m\u001b[0m\u001b[1;33m\u001b[0m\u001b[0m\n\u001b[1;32m-> 1100\u001b[1;33m               \u001b[0mtmp_logs\u001b[0m \u001b[1;33m=\u001b[0m \u001b[0mself\u001b[0m\u001b[1;33m.\u001b[0m\u001b[0mtrain_function\u001b[0m\u001b[1;33m(\u001b[0m\u001b[0miterator\u001b[0m\u001b[1;33m)\u001b[0m\u001b[1;33m\u001b[0m\u001b[1;33m\u001b[0m\u001b[0m\n\u001b[0m\u001b[0;32m   1101\u001b[0m               \u001b[1;32mif\u001b[0m \u001b[0mdata_handler\u001b[0m\u001b[1;33m.\u001b[0m\u001b[0mshould_sync\u001b[0m\u001b[1;33m:\u001b[0m\u001b[1;33m\u001b[0m\u001b[1;33m\u001b[0m\u001b[0m\n\u001b[0;32m   1102\u001b[0m                 \u001b[0mcontext\u001b[0m\u001b[1;33m.\u001b[0m\u001b[0masync_wait\u001b[0m\u001b[1;33m(\u001b[0m\u001b[1;33m)\u001b[0m\u001b[1;33m\u001b[0m\u001b[1;33m\u001b[0m\u001b[0m\n",
      "\u001b[1;32m~\\AppData\\Roaming\\Python\\Python37\\site-packages\\tensorflow\\python\\eager\\def_function.py\u001b[0m in \u001b[0;36m__call__\u001b[1;34m(self, *args, **kwds)\u001b[0m\n\u001b[0;32m    826\u001b[0m     \u001b[0mtracing_count\u001b[0m \u001b[1;33m=\u001b[0m \u001b[0mself\u001b[0m\u001b[1;33m.\u001b[0m\u001b[0mexperimental_get_tracing_count\u001b[0m\u001b[1;33m(\u001b[0m\u001b[1;33m)\u001b[0m\u001b[1;33m\u001b[0m\u001b[1;33m\u001b[0m\u001b[0m\n\u001b[0;32m    827\u001b[0m     \u001b[1;32mwith\u001b[0m \u001b[0mtrace\u001b[0m\u001b[1;33m.\u001b[0m\u001b[0mTrace\u001b[0m\u001b[1;33m(\u001b[0m\u001b[0mself\u001b[0m\u001b[1;33m.\u001b[0m\u001b[0m_name\u001b[0m\u001b[1;33m)\u001b[0m \u001b[1;32mas\u001b[0m \u001b[0mtm\u001b[0m\u001b[1;33m:\u001b[0m\u001b[1;33m\u001b[0m\u001b[1;33m\u001b[0m\u001b[0m\n\u001b[1;32m--> 828\u001b[1;33m       \u001b[0mresult\u001b[0m \u001b[1;33m=\u001b[0m \u001b[0mself\u001b[0m\u001b[1;33m.\u001b[0m\u001b[0m_call\u001b[0m\u001b[1;33m(\u001b[0m\u001b[1;33m*\u001b[0m\u001b[0margs\u001b[0m\u001b[1;33m,\u001b[0m \u001b[1;33m**\u001b[0m\u001b[0mkwds\u001b[0m\u001b[1;33m)\u001b[0m\u001b[1;33m\u001b[0m\u001b[1;33m\u001b[0m\u001b[0m\n\u001b[0m\u001b[0;32m    829\u001b[0m       \u001b[0mcompiler\u001b[0m \u001b[1;33m=\u001b[0m \u001b[1;34m\"xla\"\u001b[0m \u001b[1;32mif\u001b[0m \u001b[0mself\u001b[0m\u001b[1;33m.\u001b[0m\u001b[0m_experimental_compile\u001b[0m \u001b[1;32melse\u001b[0m \u001b[1;34m\"nonXla\"\u001b[0m\u001b[1;33m\u001b[0m\u001b[1;33m\u001b[0m\u001b[0m\n\u001b[0;32m    830\u001b[0m       \u001b[0mnew_tracing_count\u001b[0m \u001b[1;33m=\u001b[0m \u001b[0mself\u001b[0m\u001b[1;33m.\u001b[0m\u001b[0mexperimental_get_tracing_count\u001b[0m\u001b[1;33m(\u001b[0m\u001b[1;33m)\u001b[0m\u001b[1;33m\u001b[0m\u001b[1;33m\u001b[0m\u001b[0m\n",
      "\u001b[1;32m~\\AppData\\Roaming\\Python\\Python37\\site-packages\\tensorflow\\python\\eager\\def_function.py\u001b[0m in \u001b[0;36m_call\u001b[1;34m(self, *args, **kwds)\u001b[0m\n\u001b[0;32m    860\u001b[0m       \u001b[1;31m# In this case we have not created variables on the first call. So we can\u001b[0m\u001b[1;33m\u001b[0m\u001b[1;33m\u001b[0m\u001b[1;33m\u001b[0m\u001b[0m\n\u001b[0;32m    861\u001b[0m       \u001b[1;31m# run the first trace but we should fail if variables are created.\u001b[0m\u001b[1;33m\u001b[0m\u001b[1;33m\u001b[0m\u001b[1;33m\u001b[0m\u001b[0m\n\u001b[1;32m--> 862\u001b[1;33m       \u001b[0mresults\u001b[0m \u001b[1;33m=\u001b[0m \u001b[0mself\u001b[0m\u001b[1;33m.\u001b[0m\u001b[0m_stateful_fn\u001b[0m\u001b[1;33m(\u001b[0m\u001b[1;33m*\u001b[0m\u001b[0margs\u001b[0m\u001b[1;33m,\u001b[0m \u001b[1;33m**\u001b[0m\u001b[0mkwds\u001b[0m\u001b[1;33m)\u001b[0m\u001b[1;33m\u001b[0m\u001b[1;33m\u001b[0m\u001b[0m\n\u001b[0m\u001b[0;32m    863\u001b[0m       \u001b[1;32mif\u001b[0m \u001b[0mself\u001b[0m\u001b[1;33m.\u001b[0m\u001b[0m_created_variables\u001b[0m\u001b[1;33m:\u001b[0m\u001b[1;33m\u001b[0m\u001b[1;33m\u001b[0m\u001b[0m\n\u001b[0;32m    864\u001b[0m         raise ValueError(\"Creating variables on a non-first call to a function\"\n",
      "\u001b[1;32m~\\AppData\\Roaming\\Python\\Python37\\site-packages\\tensorflow\\python\\eager\\function.py\u001b[0m in \u001b[0;36m__call__\u001b[1;34m(self, *args, **kwargs)\u001b[0m\n\u001b[0;32m   2941\u001b[0m        filtered_flat_args) = self._maybe_define_function(args, kwargs)\n\u001b[0;32m   2942\u001b[0m     return graph_function._call_flat(\n\u001b[1;32m-> 2943\u001b[1;33m         filtered_flat_args, captured_inputs=graph_function.captured_inputs)  # pylint: disable=protected-access\n\u001b[0m\u001b[0;32m   2944\u001b[0m \u001b[1;33m\u001b[0m\u001b[0m\n\u001b[0;32m   2945\u001b[0m   \u001b[1;33m@\u001b[0m\u001b[0mproperty\u001b[0m\u001b[1;33m\u001b[0m\u001b[1;33m\u001b[0m\u001b[0m\n",
      "\u001b[1;32m~\\AppData\\Roaming\\Python\\Python37\\site-packages\\tensorflow\\python\\eager\\function.py\u001b[0m in \u001b[0;36m_call_flat\u001b[1;34m(self, args, captured_inputs, cancellation_manager)\u001b[0m\n\u001b[0;32m   1917\u001b[0m       \u001b[1;31m# No tape is watching; skip to running the function.\u001b[0m\u001b[1;33m\u001b[0m\u001b[1;33m\u001b[0m\u001b[1;33m\u001b[0m\u001b[0m\n\u001b[0;32m   1918\u001b[0m       return self._build_call_outputs(self._inference_function.call(\n\u001b[1;32m-> 1919\u001b[1;33m           ctx, args, cancellation_manager=cancellation_manager))\n\u001b[0m\u001b[0;32m   1920\u001b[0m     forward_backward = self._select_forward_and_backward_functions(\n\u001b[0;32m   1921\u001b[0m         \u001b[0margs\u001b[0m\u001b[1;33m,\u001b[0m\u001b[1;33m\u001b[0m\u001b[1;33m\u001b[0m\u001b[0m\n",
      "\u001b[1;32m~\\AppData\\Roaming\\Python\\Python37\\site-packages\\tensorflow\\python\\eager\\function.py\u001b[0m in \u001b[0;36mcall\u001b[1;34m(self, ctx, args, cancellation_manager)\u001b[0m\n\u001b[0;32m    558\u001b[0m               \u001b[0minputs\u001b[0m\u001b[1;33m=\u001b[0m\u001b[0margs\u001b[0m\u001b[1;33m,\u001b[0m\u001b[1;33m\u001b[0m\u001b[1;33m\u001b[0m\u001b[0m\n\u001b[0;32m    559\u001b[0m               \u001b[0mattrs\u001b[0m\u001b[1;33m=\u001b[0m\u001b[0mattrs\u001b[0m\u001b[1;33m,\u001b[0m\u001b[1;33m\u001b[0m\u001b[1;33m\u001b[0m\u001b[0m\n\u001b[1;32m--> 560\u001b[1;33m               ctx=ctx)\n\u001b[0m\u001b[0;32m    561\u001b[0m         \u001b[1;32melse\u001b[0m\u001b[1;33m:\u001b[0m\u001b[1;33m\u001b[0m\u001b[1;33m\u001b[0m\u001b[0m\n\u001b[0;32m    562\u001b[0m           outputs = execute.execute_with_cancellation(\n",
      "\u001b[1;32m~\\AppData\\Roaming\\Python\\Python37\\site-packages\\tensorflow\\python\\eager\\execute.py\u001b[0m in \u001b[0;36mquick_execute\u001b[1;34m(op_name, num_outputs, inputs, attrs, ctx, name)\u001b[0m\n\u001b[0;32m     58\u001b[0m     \u001b[0mctx\u001b[0m\u001b[1;33m.\u001b[0m\u001b[0mensure_initialized\u001b[0m\u001b[1;33m(\u001b[0m\u001b[1;33m)\u001b[0m\u001b[1;33m\u001b[0m\u001b[1;33m\u001b[0m\u001b[0m\n\u001b[0;32m     59\u001b[0m     tensors = pywrap_tfe.TFE_Py_Execute(ctx._handle, device_name, op_name,\n\u001b[1;32m---> 60\u001b[1;33m                                         inputs, attrs, num_outputs)\n\u001b[0m\u001b[0;32m     61\u001b[0m   \u001b[1;32mexcept\u001b[0m \u001b[0mcore\u001b[0m\u001b[1;33m.\u001b[0m\u001b[0m_NotOkStatusException\u001b[0m \u001b[1;32mas\u001b[0m \u001b[0me\u001b[0m\u001b[1;33m:\u001b[0m\u001b[1;33m\u001b[0m\u001b[1;33m\u001b[0m\u001b[0m\n\u001b[0;32m     62\u001b[0m     \u001b[1;32mif\u001b[0m \u001b[0mname\u001b[0m \u001b[1;32mis\u001b[0m \u001b[1;32mnot\u001b[0m \u001b[1;32mNone\u001b[0m\u001b[1;33m:\u001b[0m\u001b[1;33m\u001b[0m\u001b[1;33m\u001b[0m\u001b[0m\n",
      "\u001b[1;31mKeyboardInterrupt\u001b[0m: "
     ]
    }
   ],
   "source": [
    "initial_epochs =3\n",
    "fine_tune_epochs = 3\n",
    "total_epochs =  initial_epochs + fine_tune_epochs\n",
    "\n",
    "history= model.fit(train_images,\n",
    "                   epochs=total_epochs,\n",
    "                   initial_epoch=history.epoch[-1],\n",
    "                   validation_data=val_images, \n",
    "                   callbacks=[\n",
    "                       tf.keras.callbacks.EarlyStopping(\n",
    "                           monitor='val_loss',\n",
    "                           patience=2,\n",
    "                           restore_best_weights=True\n",
    "                       )\n",
    "                   ])\n"
   ]
  },
  {
   "cell_type": "code",
   "execution_count": 81,
   "id": "27020b8c",
   "metadata": {},
   "outputs": [],
   "source": [
    "t=tr_df.loc[40000:44000]"
   ]
  },
  {
   "cell_type": "code",
   "execution_count": 95,
   "id": "42838d40",
   "metadata": {},
   "outputs": [
    {
     "name": "stdout",
     "output_type": "stream",
     "text": [
      "Found 4001 validated image filenames belonging to 29 classes.\n"
     ]
    }
   ],
   "source": [
    "t_images = test_generator.flow_from_dataframe(\n",
    "    dataframe=t,\n",
    "    x_col='Filepath',\n",
    "    y_col='Label',\n",
    "    target_size=(224, 224),\n",
    "    color_mode='rgb',\n",
    "    class_mode='categorical',\n",
    "    batch_size=32,\n",
    "    shuffle=False\n",
    ")"
   ]
  },
  {
   "cell_type": "code",
   "execution_count": 96,
   "id": "0d4ddc3b",
   "metadata": {},
   "outputs": [],
   "source": [
    "pred = model.predict(t_images)\n",
    "pred=np.argmax(pred,axis=1)\n",
    "\n",
    "labels = (t_images.class_indices)\n",
    "labels = dict((v,k) for k,v in labels.items())\n",
    "pred = [labels[k] for k in pred]\n",
    "\n",
    "y_test = list(t.Label)"
   ]
  },
  {
   "cell_type": "code",
   "execution_count": 97,
   "id": "2c50c7e2",
   "metadata": {},
   "outputs": [
    {
     "data": {
      "text/plain": [
       "0.9907523119220195"
      ]
     },
     "execution_count": 97,
     "metadata": {},
     "output_type": "execute_result"
    }
   ],
   "source": [
    "accuracy_score(y_test,pred)"
   ]
  },
  {
   "cell_type": "code",
   "execution_count": 85,
   "id": "a1c7eb65",
   "metadata": {},
   "outputs": [],
   "source": [
    "model.save('C:/Users/mihika/Desktop/m2.h5')"
   ]
  },
  {
   "cell_type": "code",
   "execution_count": 86,
   "id": "8aced41b",
   "metadata": {},
   "outputs": [],
   "source": [
    "del model\n",
    "model = models.load_model('C:/Users/mihika/Desktop/m2.h5')"
   ]
  },
  {
   "cell_type": "code",
   "execution_count": 91,
   "id": "66c7d1e1",
   "metadata": {},
   "outputs": [],
   "source": [
    "train_df3=tr_df.loc[40000:60000]"
   ]
  },
  {
   "cell_type": "code",
   "execution_count": 92,
   "id": "c530cf67",
   "metadata": {},
   "outputs": [
    {
     "name": "stdout",
     "output_type": "stream",
     "text": [
      "Found 16001 validated image filenames belonging to 29 classes.\n",
      "Found 4000 validated image filenames belonging to 29 classes.\n"
     ]
    }
   ],
   "source": [
    "train_images = train_generator.flow_from_dataframe(\n",
    "    dataframe=train_df3,\n",
    "    x_col='Filepath',\n",
    "    y_col='Label',\n",
    "    target_size=(224,224),\n",
    "    color_mode='rgb',\n",
    "    class_mode='categorical',\n",
    "    batch_size=32,\n",
    "    shuffle=True,\n",
    "    seed=0,\n",
    "    subset='training'\n",
    ")\n",
    "\n",
    "val_images = train_generator.flow_from_dataframe(\n",
    "    dataframe=train_df3,\n",
    "    x_col='Filepath',\n",
    "    y_col='Label',\n",
    "    target_size=(224, 224),\n",
    "    color_mode='rgb',\n",
    "    class_mode='categorical',\n",
    "    batch_size=32,\n",
    "    shuffle=True,\n",
    "    seed=0,\n",
    "    subset='validation'\n",
    ")"
   ]
  },
  {
   "cell_type": "code",
   "execution_count": 93,
   "id": "d188337b",
   "metadata": {},
   "outputs": [
    {
     "name": "stdout",
     "output_type": "stream",
     "text": [
      "Epoch 1/3\n",
      "501/501 [==============================] - 827s 2s/step - loss: 0.2159 - accuracy: 0.9256 - val_loss: 0.0412 - val_accuracy: 0.9845\n",
      "Epoch 2/3\n",
      "501/501 [==============================] - 486s 970ms/step - loss: 0.1863 - accuracy: 0.9351 - val_loss: 0.0389 - val_accuracy: 0.9875\n",
      "Epoch 3/3\n",
      "501/501 [==============================] - 508s 1s/step - loss: 0.1626 - accuracy: 0.9425 - val_loss: 0.0346 - val_accuracy: 0.9885\n"
     ]
    }
   ],
   "source": [
    "history= model.fit(train_images,\n",
    "                   epochs=3,\n",
    "                   validation_data=val_images, \n",
    "                   callbacks=[\n",
    "                       tf.keras.callbacks.EarlyStopping(\n",
    "                           monitor='val_loss',\n",
    "                           patience=2,\n",
    "                           restore_best_weights=True\n",
    "                       )\n",
    "                   ])\n"
   ]
  },
  {
   "cell_type": "code",
   "execution_count": 94,
   "id": "c8817ae2",
   "metadata": {},
   "outputs": [],
   "source": [
    "t=tr_df.loc[60000:64000]"
   ]
  },
  {
   "cell_type": "code",
   "execution_count": 98,
   "id": "43a20e0d",
   "metadata": {},
   "outputs": [],
   "source": [
    "model.save('C:/Users/mihika/Desktop/m3.h5')"
   ]
  },
  {
   "cell_type": "code",
   "execution_count": 8,
   "id": "8191bfd5",
   "metadata": {},
   "outputs": [],
   "source": [
    "from tensorflow.keras import models \n",
    "model = models.load_model('C:/Users/mihika/Desktop/m3.h5')"
   ]
  },
  {
   "cell_type": "code",
   "execution_count": 13,
   "id": "421de840",
   "metadata": {},
   "outputs": [
    {
     "name": "stdout",
     "output_type": "stream",
     "text": [
      "INFO:tensorflow:Assets written to: C:\\Users\\mihika\\AppData\\Local\\Temp\\tmpmed_a09b\\assets\n"
     ]
    },
    {
     "data": {
      "text/plain": [
       "13406792"
      ]
     },
     "execution_count": 13,
     "metadata": {},
     "output_type": "execute_result"
    }
   ],
   "source": [
    "converter =  tf.lite.TFLiteConverter.from_keras_model(model)\n",
    "tfmodel = converter.convert()\n",
    "open (\"D:/DESKTOP/Minor Project/model.tflite\" , \"wb\") .write(tfmodel)"
   ]
  },
  {
   "cell_type": "code",
   "execution_count": 16,
   "id": "1ab6a31f",
   "metadata": {},
   "outputs": [],
   "source": [
    "labels='\\n'.join(sorted(train_images.class_indices.keys()))\n",
    "with open('D:/DESKTOP/Minor Project/labels.txt','w')as f:\n",
    "    f.write(labels)"
   ]
  },
  {
   "cell_type": "code",
   "execution_count": null,
   "id": "4624ef09",
   "metadata": {},
   "outputs": [],
   "source": []
  }
 ],
 "metadata": {
  "kernelspec": {
   "display_name": "Python 3",
   "language": "python",
   "name": "python3"
  },
  "language_info": {
   "codemirror_mode": {
    "name": "ipython",
    "version": 3
   },
   "file_extension": ".py",
   "mimetype": "text/x-python",
   "name": "python",
   "nbconvert_exporter": "python",
   "pygments_lexer": "ipython3",
   "version": "3.7.10"
  }
 },
 "nbformat": 4,
 "nbformat_minor": 5
}
